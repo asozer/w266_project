{
 "cells": [
  {
   "cell_type": "code",
   "execution_count": 1,
   "metadata": {},
   "outputs": [],
   "source": [
    "import pandas as pd\n",
    "import numpy as np"
   ]
  },
  {
   "cell_type": "code",
   "execution_count": 2,
   "metadata": {},
   "outputs": [],
   "source": [
    "from transformers import BertTokenizer, TFBertModel"
   ]
  },
  {
   "cell_type": "code",
   "execution_count": 3,
   "metadata": {},
   "outputs": [],
   "source": [
    "df = pd.read_csv('newsdf.csv')"
   ]
  },
  {
   "cell_type": "code",
   "execution_count": 4,
   "metadata": {},
   "outputs": [
    {
     "data": {
      "text/html": [
       "<div>\n",
       "<style scoped>\n",
       "    .dataframe tbody tr th:only-of-type {\n",
       "        vertical-align: middle;\n",
       "    }\n",
       "\n",
       "    .dataframe tbody tr th {\n",
       "        vertical-align: top;\n",
       "    }\n",
       "\n",
       "    .dataframe thead th {\n",
       "        text-align: right;\n",
       "    }\n",
       "</style>\n",
       "<table border=\"1\" class=\"dataframe\">\n",
       "  <thead>\n",
       "    <tr style=\"text-align: right;\">\n",
       "      <th></th>\n",
       "      <th>Unnamed: 0</th>\n",
       "      <th>organizations</th>\n",
       "      <th>uuid</th>\n",
       "      <th>thread</th>\n",
       "      <th>author</th>\n",
       "      <th>url</th>\n",
       "      <th>ord_in_thread</th>\n",
       "      <th>title</th>\n",
       "      <th>locations</th>\n",
       "      <th>entities</th>\n",
       "      <th>highlightText</th>\n",
       "      <th>language</th>\n",
       "      <th>persons</th>\n",
       "      <th>text</th>\n",
       "      <th>external_links</th>\n",
       "      <th>published</th>\n",
       "      <th>crawled</th>\n",
       "      <th>highlightTitle</th>\n",
       "    </tr>\n",
       "  </thead>\n",
       "  <tbody>\n",
       "    <tr>\n",
       "      <th>0</th>\n",
       "      <td>0</td>\n",
       "      <td>[]</td>\n",
       "      <td>4e41266ca1707a052245161948413f057982c0b2</td>\n",
       "      <td>{'social': {'gplus': {'shares': 0}, 'pinterest...</td>\n",
       "      <td>Reuters Editorial</td>\n",
       "      <td>https://www.reuters.com/article/brief-au-optro...</td>\n",
       "      <td>0</td>\n",
       "      <td>BRIEF-AU Optronics to pay cash dividend of T$1...</td>\n",
       "      <td>[]</td>\n",
       "      <td>{'persons': [], 'locations': [], 'organization...</td>\n",
       "      <td>NaN</td>\n",
       "      <td>english</td>\n",
       "      <td>[]</td>\n",
       "      <td>March 27(Reuters) - AU Optronics Corp :\\n* Say...</td>\n",
       "      <td>['https://twitter.com/reuters', 'https://www.y...</td>\n",
       "      <td>2018-03-27T22:14:00.000+03:00</td>\n",
       "      <td>2018-03-28T19:06:23.016+03:00</td>\n",
       "      <td>NaN</td>\n",
       "    </tr>\n",
       "    <tr>\n",
       "      <th>1</th>\n",
       "      <td>1</td>\n",
       "      <td>[]</td>\n",
       "      <td>14baef3b7ccb2247669c395093f8080e607696cf</td>\n",
       "      <td>{'social': {'gplus': {'shares': 0}, 'pinterest...</td>\n",
       "      <td>NaN</td>\n",
       "      <td>https://uk.reuters.com/article/uk-britain-econ...</td>\n",
       "      <td>0</td>\n",
       "      <td>British stats watchdog - stop using RPI inflat...</td>\n",
       "      <td>[]</td>\n",
       "      <td>{'persons': [{'name': 'david n', 'sentiment': ...</td>\n",
       "      <td>NaN</td>\n",
       "      <td>english</td>\n",
       "      <td>[]</td>\n",
       "      <td>March 8, 2018 / 1:35 PM / Updated an hour ago ...</td>\n",
       "      <td>[]</td>\n",
       "      <td>2018-03-08T15:42:00.000+02:00</td>\n",
       "      <td>2018-03-08T16:14:31.004+02:00</td>\n",
       "      <td>NaN</td>\n",
       "    </tr>\n",
       "    <tr>\n",
       "      <th>2</th>\n",
       "      <td>2</td>\n",
       "      <td>[]</td>\n",
       "      <td>5265614c8ca52231a35f9008ee5e4313938eb25c</td>\n",
       "      <td>{'social': {'gplus': {'shares': 0}, 'pinterest...</td>\n",
       "      <td>NaN</td>\n",
       "      <td>https://in.reuters.com/video/2018/03/23/dropbo...</td>\n",
       "      <td>0</td>\n",
       "      <td>Dropbox shares surge in IPO</td>\n",
       "      <td>[]</td>\n",
       "      <td>{'persons': [{'name': 'fred katayama', 'sentim...</td>\n",
       "      <td>NaN</td>\n",
       "      <td>english</td>\n",
       "      <td>[]</td>\n",
       "      <td>Dropbox shares surge in IPO Saturday, March 24...</td>\n",
       "      <td>[]</td>\n",
       "      <td>2018-03-23T22:23:00.000+03:00</td>\n",
       "      <td>2018-03-24T23:09:50.059+03:00</td>\n",
       "      <td>NaN</td>\n",
       "    </tr>\n",
       "    <tr>\n",
       "      <th>3</th>\n",
       "      <td>3</td>\n",
       "      <td>[]</td>\n",
       "      <td>8c7842ac387ba659fdcf396582c5041922225324</td>\n",
       "      <td>{'social': {'gplus': {'shares': 0}, 'pinterest...</td>\n",
       "      <td>Reuters Editorial</td>\n",
       "      <td>https://www.reuters.com/article/us-germany-naz...</td>\n",
       "      <td>0</td>\n",
       "      <td>Bookkeeper of Auschwitz dies before starting s...</td>\n",
       "      <td>[]</td>\n",
       "      <td>{'persons': [{'name': 'oskar groening', 'senti...</td>\n",
       "      <td>NaN</td>\n",
       "      <td>english</td>\n",
       "      <td>[]</td>\n",
       "      <td>BERLIN (Reuters) - The man known as the “bookk...</td>\n",
       "      <td>['http://thomsonreuters.com/en/about-us/trust-...</td>\n",
       "      <td>2018-03-13T01:05:00.000+02:00</td>\n",
       "      <td>2018-03-12T20:52:17.008+02:00</td>\n",
       "      <td>NaN</td>\n",
       "    </tr>\n",
       "    <tr>\n",
       "      <th>4</th>\n",
       "      <td>4</td>\n",
       "      <td>[]</td>\n",
       "      <td>b58cb12cc6919413d80a00f9a38b4c22a7142411</td>\n",
       "      <td>{'social': {'gplus': {'shares': 0}, 'pinterest...</td>\n",
       "      <td>Alexandra Gibbs</td>\n",
       "      <td>https://www.cnbc.com/2018/03/05/us-stock-futur...</td>\n",
       "      <td>0</td>\n",
       "      <td>US stocks set for a negative open as trade war...</td>\n",
       "      <td>[]</td>\n",
       "      <td>{'persons': [{'name': 'donald trump', 'sentime...</td>\n",
       "      <td>NaN</td>\n",
       "      <td>english</td>\n",
       "      <td>[]</td>\n",
       "      <td>Dow closes 336 points higher as trade-war worr...</td>\n",
       "      <td>['https://twitter.com/realDonaldTrump/status/9...</td>\n",
       "      <td>2018-03-05T13:27:00.000+02:00</td>\n",
       "      <td>2018-03-05T12:38:30.000+02:00</td>\n",
       "      <td>NaN</td>\n",
       "    </tr>\n",
       "  </tbody>\n",
       "</table>\n",
       "</div>"
      ],
      "text/plain": [
       "   Unnamed: 0 organizations                                      uuid  \\\n",
       "0           0            []  4e41266ca1707a052245161948413f057982c0b2   \n",
       "1           1            []  14baef3b7ccb2247669c395093f8080e607696cf   \n",
       "2           2            []  5265614c8ca52231a35f9008ee5e4313938eb25c   \n",
       "3           3            []  8c7842ac387ba659fdcf396582c5041922225324   \n",
       "4           4            []  b58cb12cc6919413d80a00f9a38b4c22a7142411   \n",
       "\n",
       "                                              thread             author  \\\n",
       "0  {'social': {'gplus': {'shares': 0}, 'pinterest...  Reuters Editorial   \n",
       "1  {'social': {'gplus': {'shares': 0}, 'pinterest...                NaN   \n",
       "2  {'social': {'gplus': {'shares': 0}, 'pinterest...                NaN   \n",
       "3  {'social': {'gplus': {'shares': 0}, 'pinterest...  Reuters Editorial   \n",
       "4  {'social': {'gplus': {'shares': 0}, 'pinterest...    Alexandra Gibbs   \n",
       "\n",
       "                                                 url  ord_in_thread  \\\n",
       "0  https://www.reuters.com/article/brief-au-optro...              0   \n",
       "1  https://uk.reuters.com/article/uk-britain-econ...              0   \n",
       "2  https://in.reuters.com/video/2018/03/23/dropbo...              0   \n",
       "3  https://www.reuters.com/article/us-germany-naz...              0   \n",
       "4  https://www.cnbc.com/2018/03/05/us-stock-futur...              0   \n",
       "\n",
       "                                               title locations  \\\n",
       "0  BRIEF-AU Optronics to pay cash dividend of T$1...        []   \n",
       "1  British stats watchdog - stop using RPI inflat...        []   \n",
       "2                        Dropbox shares surge in IPO        []   \n",
       "3  Bookkeeper of Auschwitz dies before starting s...        []   \n",
       "4  US stocks set for a negative open as trade war...        []   \n",
       "\n",
       "                                            entities  highlightText language  \\\n",
       "0  {'persons': [], 'locations': [], 'organization...            NaN  english   \n",
       "1  {'persons': [{'name': 'david n', 'sentiment': ...            NaN  english   \n",
       "2  {'persons': [{'name': 'fred katayama', 'sentim...            NaN  english   \n",
       "3  {'persons': [{'name': 'oskar groening', 'senti...            NaN  english   \n",
       "4  {'persons': [{'name': 'donald trump', 'sentime...            NaN  english   \n",
       "\n",
       "  persons                                               text  \\\n",
       "0      []  March 27(Reuters) - AU Optronics Corp :\\n* Say...   \n",
       "1      []  March 8, 2018 / 1:35 PM / Updated an hour ago ...   \n",
       "2      []  Dropbox shares surge in IPO Saturday, March 24...   \n",
       "3      []  BERLIN (Reuters) - The man known as the “bookk...   \n",
       "4      []  Dow closes 336 points higher as trade-war worr...   \n",
       "\n",
       "                                      external_links  \\\n",
       "0  ['https://twitter.com/reuters', 'https://www.y...   \n",
       "1                                                 []   \n",
       "2                                                 []   \n",
       "3  ['http://thomsonreuters.com/en/about-us/trust-...   \n",
       "4  ['https://twitter.com/realDonaldTrump/status/9...   \n",
       "\n",
       "                       published                        crawled  \\\n",
       "0  2018-03-27T22:14:00.000+03:00  2018-03-28T19:06:23.016+03:00   \n",
       "1  2018-03-08T15:42:00.000+02:00  2018-03-08T16:14:31.004+02:00   \n",
       "2  2018-03-23T22:23:00.000+03:00  2018-03-24T23:09:50.059+03:00   \n",
       "3  2018-03-13T01:05:00.000+02:00  2018-03-12T20:52:17.008+02:00   \n",
       "4  2018-03-05T13:27:00.000+02:00  2018-03-05T12:38:30.000+02:00   \n",
       "\n",
       "   highlightTitle  \n",
       "0             NaN  \n",
       "1             NaN  \n",
       "2             NaN  \n",
       "3             NaN  \n",
       "4             NaN  "
      ]
     },
     "execution_count": 4,
     "metadata": {},
     "output_type": "execute_result"
    }
   ],
   "source": [
    "df.head()"
   ]
  },
  {
   "cell_type": "code",
   "execution_count": 8,
   "metadata": {},
   "outputs": [],
   "source": [
    "tokenizer = BertTokenizer.from_pretrained('bert-base-cased')"
   ]
  },
  {
   "cell_type": "code",
   "execution_count": 16,
   "metadata": {},
   "outputs": [],
   "source": [
    "texts = df['text'].sample(100)\n",
    "texts = [i[:500] for i in texts]\n",
    "texts_list = list(texts)\n",
    "filtered_texts = []\n",
    "for text in texts_list:\n",
    "    if (isinstance(text, str)):\n",
    "        filtered_texts.append(text)"
   ]
  },
  {
   "cell_type": "code",
   "execution_count": 17,
   "metadata": {},
   "outputs": [
    {
     "data": {
      "text/plain": [
       "True"
      ]
     },
     "execution_count": 17,
     "metadata": {},
     "output_type": "execute_result"
    }
   ],
   "source": [
    "all(isinstance(x, str) for x in filtered_texts)"
   ]
  },
  {
   "cell_type": "code",
   "execution_count": 18,
   "metadata": {},
   "outputs": [
    {
     "data": {
      "text/plain": [
       "{'input_ids': <tf.Tensor: shape=(100, 254), dtype=int32, numpy=\n",
       "array([[  101,  1364,  1512, ...,     0,     0,     0],\n",
       "       [  101, 26574,  2162, ...,     0,     0,     0],\n",
       "       [  101, 26660, 13329, ...,     0,     0,     0],\n",
       "       ...,\n",
       "       [  101,  1318,  1476, ...,     0,     0,     0],\n",
       "       [  101,  1318,   124, ...,     0,     0,     0],\n",
       "       [  101, 11336,  7854, ...,     0,     0,     0]], dtype=int32)>, 'token_type_ids': <tf.Tensor: shape=(100, 254), dtype=int32, numpy=\n",
       "array([[0, 0, 0, ..., 0, 0, 0],\n",
       "       [0, 0, 0, ..., 0, 0, 0],\n",
       "       [0, 0, 0, ..., 0, 0, 0],\n",
       "       ...,\n",
       "       [0, 0, 0, ..., 0, 0, 0],\n",
       "       [0, 0, 0, ..., 0, 0, 0],\n",
       "       [0, 0, 0, ..., 0, 0, 0]], dtype=int32)>, 'attention_mask': <tf.Tensor: shape=(100, 254), dtype=int32, numpy=\n",
       "array([[1, 1, 1, ..., 0, 0, 0],\n",
       "       [1, 1, 1, ..., 0, 0, 0],\n",
       "       [1, 1, 1, ..., 0, 0, 0],\n",
       "       ...,\n",
       "       [1, 1, 1, ..., 0, 0, 0],\n",
       "       [1, 1, 1, ..., 0, 0, 0],\n",
       "       [1, 1, 1, ..., 0, 0, 0]], dtype=int32)>}"
      ]
     },
     "execution_count": 18,
     "metadata": {},
     "output_type": "execute_result"
    }
   ],
   "source": [
    "bert_inputs = tokenizer(filtered_texts,\n",
    "                  padding=True,\n",
    "                  return_tensors='tf')\n",
    "\n",
    "bert_inputs"
   ]
  },
  {
   "cell_type": "code",
   "execution_count": 19,
   "metadata": {},
   "outputs": [
    {
     "name": "stderr",
     "output_type": "stream",
     "text": [
      "Some layers from the model checkpoint at bert-base-cased were not used when initializing TFBertModel: ['nsp___cls', 'mlm___cls']\n",
      "- This IS expected if you are initializing TFBertModel from the checkpoint of a model trained on another task or with another architecture (e.g. initializing a BertForSequenceClassification model from a BertForPreTraining model).\n",
      "- This IS NOT expected if you are initializing TFBertModel from the checkpoint of a model that you expect to be exactly identical (initializing a BertForSequenceClassification model from a BertForSequenceClassification model).\n",
      "All the layers of TFBertModel were initialized from the model checkpoint at bert-base-cased.\n",
      "If your task is similar to the task the model of the checkpoint was trained on, you can already use TFBertModel for predictions without further training.\n"
     ]
    }
   ],
   "source": [
    "bert_layer = TFBertModel.from_pretrained('bert-base-cased')"
   ]
  },
  {
   "cell_type": "code",
   "execution_count": 20,
   "metadata": {},
   "outputs": [],
   "source": [
    "bert_outputs = bert_layer(bert_inputs)\n",
    "\n",
    "#print('shape of first output: \\t\\t', bert_outputs[0].shape)\n",
    "#print('shape of second output: \\t', bert_outputs[1].shape)"
   ]
  },
  {
   "cell_type": "code",
   "execution_count": null,
   "metadata": {},
   "outputs": [],
   "source": []
  },
  {
   "cell_type": "code",
   "execution_count": null,
   "metadata": {},
   "outputs": [],
   "source": []
  },
  {
   "cell_type": "code",
   "execution_count": 42,
   "metadata": {},
   "outputs": [
    {
     "data": {
      "text/html": [
       "<div>\n",
       "<style scoped>\n",
       "    .dataframe tbody tr th:only-of-type {\n",
       "        vertical-align: middle;\n",
       "    }\n",
       "\n",
       "    .dataframe tbody tr th {\n",
       "        vertical-align: top;\n",
       "    }\n",
       "\n",
       "    .dataframe thead th {\n",
       "        text-align: right;\n",
       "    }\n",
       "</style>\n",
       "<table border=\"1\" class=\"dataframe\">\n",
       "  <thead>\n",
       "    <tr style=\"text-align: right;\">\n",
       "      <th></th>\n",
       "      <th>Unnamed: 0</th>\n",
       "      <th>organizations</th>\n",
       "      <th>uuid</th>\n",
       "      <th>thread</th>\n",
       "      <th>author</th>\n",
       "      <th>url</th>\n",
       "      <th>ord_in_thread</th>\n",
       "      <th>title</th>\n",
       "      <th>locations</th>\n",
       "      <th>entities</th>\n",
       "      <th>highlightText</th>\n",
       "      <th>language</th>\n",
       "      <th>persons</th>\n",
       "      <th>text</th>\n",
       "      <th>external_links</th>\n",
       "      <th>published</th>\n",
       "      <th>crawled</th>\n",
       "      <th>highlightTitle</th>\n",
       "    </tr>\n",
       "  </thead>\n",
       "  <tbody>\n",
       "  </tbody>\n",
       "</table>\n",
       "</div>"
      ],
      "text/plain": [
       "Empty DataFrame\n",
       "Columns: [Unnamed: 0, organizations, uuid, thread, author, url, ord_in_thread, title, locations, entities, highlightText, language, persons, text, external_links, published, crawled, highlightTitle]\n",
       "Index: []"
      ]
     },
     "execution_count": 42,
     "metadata": {},
     "output_type": "execute_result"
    }
   ],
   "source": [
    "df[df['text']]"
   ]
  },
  {
   "cell_type": "code",
   "execution_count": 43,
   "metadata": {},
   "outputs": [],
   "source": [
    "lens = [i.split() for i in df['text'] if (type(i) == str) ]"
   ]
  },
  {
   "cell_type": "code",
   "execution_count": null,
   "metadata": {},
   "outputs": [],
   "source": [
    "import matplotlib.pyplot as plt"
   ]
  },
  {
   "cell_type": "code",
   "execution_count": null,
   "metadata": {},
   "outputs": [],
   "source": []
  },
  {
   "cell_type": "code",
   "execution_count": 37,
   "metadata": {},
   "outputs": [
    {
     "data": {
      "text/plain": [
       "False"
      ]
     },
     "execution_count": 37,
     "metadata": {},
     "output_type": "execute_result"
    }
   ],
   "source": []
  },
  {
   "cell_type": "code",
   "execution_count": 45,
   "metadata": {},
   "outputs": [],
   "source": [
    "the_lens = [len(i) for i in lens]"
   ]
  },
  {
   "cell_type": "code",
   "execution_count": 49,
   "metadata": {},
   "outputs": [
    {
     "data": {
      "text/plain": [
       "(array([2.6861e+05, 2.6984e+04, 3.2890e+03, 1.9380e+03, 1.5050e+03,\n",
       "        1.1890e+03, 8.7600e+02, 6.3300e+02, 3.9900e+02, 2.7000e+02,\n",
       "        1.8200e+02, 1.1700e+02, 6.0000e+01, 5.5000e+01, 2.8000e+01,\n",
       "        2.4000e+01, 1.6000e+01, 1.0000e+01, 1.0000e+01, 8.0000e+00,\n",
       "        7.0000e+00, 5.0000e+00, 1.4000e+01, 2.0000e+00, 1.0000e+00,\n",
       "        5.0000e+00, 2.0000e+00, 0.0000e+00, 1.0000e+00, 0.0000e+00,\n",
       "        0.0000e+00, 0.0000e+00, 0.0000e+00, 0.0000e+00, 0.0000e+00,\n",
       "        0.0000e+00, 0.0000e+00, 0.0000e+00, 0.0000e+00, 0.0000e+00,\n",
       "        0.0000e+00, 0.0000e+00, 0.0000e+00, 0.0000e+00, 0.0000e+00,\n",
       "        0.0000e+00, 0.0000e+00, 0.0000e+00, 0.0000e+00, 1.0000e+00]),\n",
       " array([    0.  ,   704.36,  1408.72,  2113.08,  2817.44,  3521.8 ,\n",
       "         4226.16,  4930.52,  5634.88,  6339.24,  7043.6 ,  7747.96,\n",
       "         8452.32,  9156.68,  9861.04, 10565.4 , 11269.76, 11974.12,\n",
       "        12678.48, 13382.84, 14087.2 , 14791.56, 15495.92, 16200.28,\n",
       "        16904.64, 17609.  , 18313.36, 19017.72, 19722.08, 20426.44,\n",
       "        21130.8 , 21835.16, 22539.52, 23243.88, 23948.24, 24652.6 ,\n",
       "        25356.96, 26061.32, 26765.68, 27470.04, 28174.4 , 28878.76,\n",
       "        29583.12, 30287.48, 30991.84, 31696.2 , 32400.56, 33104.92,\n",
       "        33809.28, 34513.64, 35218.  ]),\n",
       " <BarContainer object of 50 artists>)"
      ]
     },
     "execution_count": 49,
     "metadata": {},
     "output_type": "execute_result"
    },
    {
     "data": {
      "image/png": "[encoded data removed]",
      "text/plain": [
       "<Figure size 432x288 with 1 Axes>"
      ]
     },
     "metadata": {
      "needs_background": "light"
     },
     "output_type": "display_data"
    }
   ],
   "source": [
    "plt.hist(the_lens,bins=50)"
   ]
  },
  {
   "cell_type": "code",
   "execution_count": 50,
   "metadata": {},
   "outputs": [
    {
     "data": {
      "text/plain": [
       "35218"
      ]
     },
     "execution_count": 50,
     "metadata": {},
     "output_type": "execute_result"
    }
   ],
   "source": [
    "max(the_lens)"
   ]
  },
  {
   "cell_type": "code",
   "execution_count": 51,
   "metadata": {},
   "outputs": [
    {
     "data": {
      "text/plain": [
       "0"
      ]
     },
     "execution_count": 51,
     "metadata": {},
     "output_type": "execute_result"
    }
   ],
   "source": [
    "min(the_lens)"
   ]
  },
  {
   "cell_type": "code",
   "execution_count": 53,
   "metadata": {},
   "outputs": [
    {
     "data": {
      "text/plain": [
       "401.8875591445953"
      ]
     },
     "execution_count": 53,
     "metadata": {},
     "output_type": "execute_result"
    }
   ],
   "source": [
    "np.mean(the_lens)"
   ]
  },
  {
   "cell_type": "code",
   "execution_count": 57,
   "metadata": {},
   "outputs": [
    {
     "data": {
      "text/plain": [
       "(0.0, 5000.0, 0.0, 500000.0)"
      ]
     },
     "execution_count": 57,
     "metadata": {},
     "output_type": "execute_result"
    },
    {
     "data": {
      "image/png": "[encoded data removed]",
      "text/plain": [
       "<Figure size 432x288 with 1 Axes>"
      ]
     },
     "metadata": {
      "needs_background": "light"
     },
     "output_type": "display_data"
    }
   ],
   "source": [
    "plt.axis([0, 5000, 0, 500000])"
   ]
  },
  {
   "cell_type": "code",
   "execution_count": 58,
   "metadata": {},
   "outputs": [
    {
     "data": {
      "text/plain": [
       "(array([3.02326e+05, 3.36700e+03, 4.42000e+02, 6.80000e+01, 2.90000e+01,\n",
       "        8.00000e+00, 0.00000e+00, 0.00000e+00, 0.00000e+00, 1.00000e+00]),\n",
       " array([    0. ,  3521.8,  7043.6, 10565.4, 14087.2, 17609. , 21130.8,\n",
       "        24652.6, 28174.4, 31696.2, 35218. ]),\n",
       " <BarContainer object of 10 artists>)"
      ]
     },
     "execution_count": 58,
     "metadata": {},
     "output_type": "execute_result"
    },
    {
     "data": {
      "image/png": "[encoded data removed]",
      "text/plain": [
       "<Figure size 432x288 with 1 Axes>"
      ]
     },
     "metadata": {
      "needs_background": "light"
     },
     "output_type": "display_data"
    }
   ],
   "source": [
    "plt.hist(the_lens)"
   ]
  },
  {
   "cell_type": "code",
   "execution_count": 64,
   "metadata": {},
   "outputs": [],
   "source": [
    "l = np.array(the_lens)"
   ]
  },
  {
   "cell_type": "code",
   "execution_count": 77,
   "metadata": {},
   "outputs": [
    {
     "data": {
      "text/plain": [
       "(array([255179.,  37754.,   4808.,   1996.,   1531.,   1204.,    990.,\n",
       "           784.,    569.,    438.]),\n",
       " array([   0. ,  599.9, 1199.8, 1799.7, 2399.6, 2999.5, 3599.4, 4199.3,\n",
       "        4799.2, 5399.1, 5999. ]),\n",
       " <BarContainer object of 10 artists>)"
      ]
     },
     "execution_count": 77,
     "metadata": {},
     "output_type": "execute_result"
    },
    {
     "data": {
      "image/png": "[encoded data removed]",
      "text/plain": [
       "<Figure size 432x288 with 1 Axes>"
      ]
     },
     "metadata": {
      "needs_background": "light"
     },
     "output_type": "display_data"
    }
   ],
   "source": [
    "plt.hist(l[l<6000])"
   ]
  },
  {
   "cell_type": "code",
   "execution_count": 71,
   "metadata": {},
   "outputs": [
    {
     "data": {
      "text/plain": [
       "31"
      ]
     },
     "execution_count": 71,
     "metadata": {},
     "output_type": "execute_result"
    }
   ],
   "source": [
    "sum(l>15000)"
   ]
  },
  {
   "cell_type": "code",
   "execution_count": 72,
   "metadata": {},
   "outputs": [
    {
     "data": {
      "text/plain": [
       "122"
      ]
     },
     "execution_count": 72,
     "metadata": {},
     "output_type": "execute_result"
    }
   ],
   "source": [
    "sum(l>10000)"
   ]
  },
  {
   "cell_type": "code",
   "execution_count": 73,
   "metadata": {},
   "outputs": [
    {
     "data": {
      "text/plain": [
       "1782"
      ]
     },
     "execution_count": 73,
     "metadata": {},
     "output_type": "execute_result"
    }
   ],
   "source": [
    "sum(l>5000)"
   ]
  },
  {
   "cell_type": "code",
   "execution_count": 74,
   "metadata": {},
   "outputs": [
    {
     "data": {
      "text/plain": [
       "306241"
      ]
     },
     "execution_count": 74,
     "metadata": {},
     "output_type": "execute_result"
    }
   ],
   "source": [
    "len(l)"
   ]
  },
  {
   "cell_type": "code",
   "execution_count": null,
   "metadata": {},
   "outputs": [],
   "source": []
  }
 ],
 "metadata": {
  "environment": {
   "name": "tf2-gpu.2-4.m65",
   "type": "gcloud",
   "uri": "gcr.io/deeplearning-platform-release/tf2-gpu.2-4:m65"
  },
  "kernelspec": {
   "display_name": "Python 3",
   "language": "python",
   "name": "python3"
  },
  "language_info": {
   "codemirror_mode": {
    "name": "ipython",
    "version": 3
   },
   "file_extension": ".py",
   "mimetype": "text/x-python",
   "name": "python",
   "nbconvert_exporter": "python",
   "pygments_lexer": "ipython3",
   "version": "3.7.10"
  }
 },
 "nbformat": 4,
 "nbformat_minor": 4
}
